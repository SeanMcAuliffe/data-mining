{
 "cells": [
  {
   "attachments": {},
   "cell_type": "markdown",
   "metadata": {},
   "source": [
    "# SENG 474 A02: Assignment 2\n",
    "## K-Fold Cross Validation\n",
    "Sean McAuliffe, V00913346  \n",
    "February 27, 2023\n"
   ]
  },
  {
   "cell_type": "markdown",
   "metadata": {},
   "source": [
    "## Envrionmental Setup"
   ]
  },
  {
   "cell_type": "code",
   "execution_count": 12,
   "metadata": {},
   "outputs": [],
   "source": [
    "# %pip install numpy\n",
    "# %pip install pandas\n",
    "# %pip install matplotlib\n",
    "# %pip install seaborn\n",
    "# %pip install scikit-learn\n",
    "# %pip install scipy\n",
    "\n",
    "import numpy as np\n",
    "import matplotlib.pyplot as plt"
   ]
  },
  {
   "attachments": {},
   "cell_type": "markdown",
   "metadata": {},
   "source": [
    "## Data Import & Preprocessing "
   ]
  },
  {
   "cell_type": "code",
   "execution_count": 13,
   "metadata": {},
   "outputs": [],
   "source": [
    "from utils import mnist_reader\n",
    "X_train, y_train = mnist_reader.load_mnist('data/fashion', kind='train')\n",
    "X_test, y_test = mnist_reader.load_mnist('data/fashion', kind='t10k')\n",
    "\n",
    "# Filter out examples which are not class 0 or 6\n",
    "X_train = X_train[(y_train == 0) | (y_train == 6)]\n",
    "y_train = y_train[(y_train == 0) | (y_train == 6)]\n",
    "X_test = X_test[(y_test == 0) | (y_test == 6)]\n",
    "y_test = y_test[(y_test == 0) | (y_test == 6)]\n",
    "\n",
    "# Normalization Option 1: rescale so the examples lie in range [0, 1]\n",
    "X_train = X_train / 255\n",
    "X_test = X_test / 255\n",
    "\n",
    "# Normalization Option 2: ensure each feature has unit norm\n",
    "# X_train = X_train / np.linalg.norm(X_train, axis=1, keepdims=True)\n",
    "# X_test = X_test / np.linalg.norm(X_test, axis=1, keepdims=True)"
   ]
  },
  {
   "attachments": {},
   "cell_type": "markdown",
   "metadata": {},
   "source": [
    "## *k*-Fold CV Implementation"
   ]
  },
  {
   "cell_type": "code",
   "execution_count": 1,
   "metadata": {},
   "outputs": [],
   "source": [
    "def kfold_cv(X, y, k, model):\n",
    "    # Split the data into k folds\n",
    "    X_folds = np.array_split(X, k)\n",
    "    y_folds = np.array_split(y, k)\n",
    "\n",
    "    accuracies = []\n",
    "    X_train = np.array([])\n",
    "    y_train = np.array([])\n",
    "\n",
    "    for i in range(k):\n",
    "        # Create training and validation sets\n",
    "        for j in range(k):\n",
    "            if j == i:\n",
    "                X_validation = X_folds[j]\n",
    "                y_validation = y_folds[j]\n",
    "            else:\n",
    "                X_train = np.concatenate(X_train, X_folds[j])\n",
    "                y_train = np.concatenate(y_train, y_folds[j])\n",
    "\n",
    "        # Train the model\n",
    "        model.fit(X_train, y_train)\n",
    "\n",
    "        # Evaluate the model\n",
    "        accuracies.append(model.score(X_validation, y_validation))\n",
    "\n",
    "    return np.average(np.array(accuracies))"
   ]
  }
 ],
 "metadata": {
  "kernelspec": {
   "display_name": "Python 3",
   "language": "python",
   "name": "python3"
  },
  "language_info": {
   "codemirror_mode": {
    "name": "ipython",
    "version": 3
   },
   "file_extension": ".py",
   "mimetype": "text/x-python",
   "name": "python",
   "nbconvert_exporter": "python",
   "pygments_lexer": "ipython3",
   "version": "3.10.6"
  },
  "orig_nbformat": 4,
  "vscode": {
   "interpreter": {
    "hash": "916dbcbb3f70747c44a77c7bcd40155683ae19c65e1c03b4aa3499c5328201f1"
   }
  }
 },
 "nbformat": 4,
 "nbformat_minor": 2
}
